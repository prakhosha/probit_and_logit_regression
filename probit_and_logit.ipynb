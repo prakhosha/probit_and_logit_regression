{
 "cells": [
  {
   "cell_type": "code",
   "execution_count": 46,
   "id": "b3255c79-baa7-43d8-b158-f0b3feb92f85",
   "metadata": {
    "tags": []
   },
   "outputs": [],
   "source": [
    "import pandas as pd\n",
    "import numpy as np\n",
    "import matplotlib.pyplot as plt\n",
    "import statsmodels.api as sm\n",
    "from sklearn.model_selection import train_test_split"
   ]
  },
  {
   "cell_type": "markdown",
   "id": "29f3c543-89dc-4f0f-b007-d2bb395a3a79",
   "metadata": {},
   "source": [
    "# Probit and Logit Regression\n",
    "\n",
    "**The building block of artificial intelligence**\n",
    "\n",
    "*Posted on: September 2023*"
   ]
  },
  {
   "cell_type": "markdown",
   "id": "2e41f59a-893c-40d9-ad48-9418a06ceb1a",
   "metadata": {},
   "source": [
    "The fundamental building block of neural network is a model that mimic neuron cell. We can model this neuron using a model that output a value between 0 and 1, zero representing inactive cell and 1 representing active cell. Two populars model that output a value between 0 and 1 are probit regression and logit regression."
   ]
  },
  {
   "cell_type": "markdown",
   "id": "b32fd4cb-9f1a-4794-817e-f61be0c8f548",
   "metadata": {},
   "source": [
    "Probit and logit regression are family of regression model that model a process that output a value between 0 and 1. Usually, the process is the probability of an event happening."
   ]
  },
  {
   "cell_type": "markdown",
   "id": "0baae244-219e-43a1-b4a0-994fdf385fc1",
   "metadata": {},
   "source": [
    "Both are similar in term of how they model the output, which is using the cumulative distribution function (cdf) of a model. The differecne is that while the probit regression uses the cdf of normal distribution, the logit regression uses the cdf of logistic distribution."
   ]
  },
  {
   "cell_type": "markdown",
   "id": "2fbce532-6272-4173-811a-68c6d8a912a3",
   "metadata": {},
   "source": [
    "An example of a process that can be modelled with probit regression and logit regression is the banknote data from [UC Irvine Machine Learning Repository](https://archive.ics.uci.edu/dataset/267/banknote+authentication). This data contains the wavelet result of images."
   ]
  },
  {
   "cell_type": "code",
   "execution_count": 13,
   "id": "560f92fa-2f36-48bb-b94c-6e40cb0bbde8",
   "metadata": {
    "tags": []
   },
   "outputs": [
    {
     "data": {
      "text/html": [
       "<div>\n",
       "<style scoped>\n",
       "    .dataframe tbody tr th:only-of-type {\n",
       "        vertical-align: middle;\n",
       "    }\n",
       "\n",
       "    .dataframe tbody tr th {\n",
       "        vertical-align: top;\n",
       "    }\n",
       "\n",
       "    .dataframe thead th {\n",
       "        text-align: right;\n",
       "    }\n",
       "</style>\n",
       "<table border=\"1\" class=\"dataframe\">\n",
       "  <thead>\n",
       "    <tr style=\"text-align: right;\">\n",
       "      <th></th>\n",
       "      <th>0</th>\n",
       "      <th>1</th>\n",
       "      <th>2</th>\n",
       "      <th>3</th>\n",
       "      <th>4</th>\n",
       "    </tr>\n",
       "  </thead>\n",
       "  <tbody>\n",
       "    <tr>\n",
       "      <th>0</th>\n",
       "      <td>3.62160</td>\n",
       "      <td>8.6661</td>\n",
       "      <td>-2.8073</td>\n",
       "      <td>-0.44699</td>\n",
       "      <td>0</td>\n",
       "    </tr>\n",
       "    <tr>\n",
       "      <th>1</th>\n",
       "      <td>4.54590</td>\n",
       "      <td>8.1674</td>\n",
       "      <td>-2.4586</td>\n",
       "      <td>-1.46210</td>\n",
       "      <td>0</td>\n",
       "    </tr>\n",
       "    <tr>\n",
       "      <th>2</th>\n",
       "      <td>3.86600</td>\n",
       "      <td>-2.6383</td>\n",
       "      <td>1.9242</td>\n",
       "      <td>0.10645</td>\n",
       "      <td>0</td>\n",
       "    </tr>\n",
       "    <tr>\n",
       "      <th>3</th>\n",
       "      <td>3.45660</td>\n",
       "      <td>9.5228</td>\n",
       "      <td>-4.0112</td>\n",
       "      <td>-3.59440</td>\n",
       "      <td>0</td>\n",
       "    </tr>\n",
       "    <tr>\n",
       "      <th>4</th>\n",
       "      <td>0.32924</td>\n",
       "      <td>-4.4552</td>\n",
       "      <td>4.5718</td>\n",
       "      <td>-0.98880</td>\n",
       "      <td>0</td>\n",
       "    </tr>\n",
       "  </tbody>\n",
       "</table>\n",
       "</div>"
      ],
      "text/plain": [
       "         0       1       2        3  4\n",
       "0  3.62160  8.6661 -2.8073 -0.44699  0\n",
       "1  4.54590  8.1674 -2.4586 -1.46210  0\n",
       "2  3.86600 -2.6383  1.9242  0.10645  0\n",
       "3  3.45660  9.5228 -4.0112 -3.59440  0\n",
       "4  0.32924 -4.4552  4.5718 -0.98880  0"
      ]
     },
     "execution_count": 13,
     "metadata": {},
     "output_type": "execute_result"
    }
   ],
   "source": [
    "data_path = \"https://archive.ics.uci.edu/static/public/267/banknote+authentication.zip\"\n",
    "\n",
    "df = pd.read_csv(data_path, header=None)\n",
    "df.head()"
   ]
  },
  {
   "cell_type": "code",
   "execution_count": 81,
   "id": "2707e51d-333d-471b-a67a-0acf55048fa6",
   "metadata": {
    "tags": []
   },
   "outputs": [
    {
     "data": {
      "text/plain": [
       "Text(0, 0.5, 'Number of Data')"
      ]
     },
     "execution_count": 81,
     "metadata": {},
     "output_type": "execute_result"
    },
    {
     "data": {
      "image/png": "[encoded data removed]",
      "text/plain": [
       "<Figure size 640x480 with 1 Axes>"
      ]
     },
     "metadata": {},
     "output_type": "display_data"
    }
   ],
   "source": [
    "plt.bar(x=df[4].value_counts().keys(), height=df[4].value_counts().values, color=[\"red\", \"blue\"], alpha=0.4)\n",
    "plt.xticks([0, 1])\n",
    "plt.xlabel(\"Class\")\n",
    "plt.ylabel(\"Number of Data\")"
   ]
  },
  {
   "cell_type": "code",
   "execution_count": 35,
   "id": "f092969c-bfb1-41c7-a3a8-06fe417796a5",
   "metadata": {
    "tags": []
   },
   "outputs": [],
   "source": [
    "X_train, X_test, y_train, y_test = train_test_split(df[[1, 2, 3]], df[4], test_size=0.33, random_state=0)"
   ]
  },
  {
   "cell_type": "markdown",
   "id": "8e087575-e28b-48fe-a10a-479c9318cb57",
   "metadata": {},
   "source": [
    "## Probit Regression"
   ]
  },
  {
   "cell_type": "markdown",
   "id": "53662ec6-25b7-4146-8934-3a0725dab51a",
   "metadata": {},
   "source": [
    "The probit model can be written mathematically as:\n",
    "\n",
    "aasa"
   ]
  },
  {
   "cell_type": "code",
   "execution_count": 36,
   "id": "664a4131-0fc6-4c7c-b721-197ce5347a0a",
   "metadata": {
    "tags": []
   },
   "outputs": [
    {
     "name": "stdout",
     "output_type": "stream",
     "text": [
      "Optimization terminated successfully.\n",
      "         Current function value: 0.434708\n",
      "         Iterations 6\n",
      "                          Probit Regression Results                           \n",
      "==============================================================================\n",
      "Dep. Variable:                      4   No. Observations:                  919\n",
      "Model:                         Probit   Df Residuals:                      916\n",
      "Method:                           MLE   Df Model:                            2\n",
      "Date:                Sun, 17 Sep 2023   Pseudo R-squ.:                  0.3675\n",
      "Time:                        17:33:38   Log-Likelihood:                -399.50\n",
      "converged:                       True   LL-Null:                       -631.66\n",
      "Covariance Type:            nonrobust   LLR p-value:                1.489e-101\n",
      "==============================================================================\n",
      "                 coef    std err          z      P>|z|      [0.025      0.975]\n",
      "------------------------------------------------------------------------------\n",
      "1             -0.3449      0.021    -16.506      0.000      -0.386      -0.304\n",
      "2             -0.2212      0.020    -11.272      0.000      -0.260      -0.183\n",
      "3             -0.4629      0.036    -13.040      0.000      -0.533      -0.393\n",
      "==============================================================================\n"
     ]
    }
   ],
   "source": [
    "probit_model = sm.Probit(y_train, X_train)\n",
    "probit_res = probit_model.fit()\n",
    "print(probit_res.summary())"
   ]
  },
  {
   "cell_type": "markdown",
   "id": "cf551294-9374-4fda-a084-5cc606512240",
   "metadata": {},
   "source": [
    "### Logit Regression"
   ]
  },
  {
   "cell_type": "markdown",
   "id": "b44eae30-5545-4f29-902a-dcf50773d9e5",
   "metadata": {},
   "source": [
    "Logistic regression can be expressed mathematically as ...."
   ]
  },
  {
   "cell_type": "code",
   "execution_count": 70,
   "id": "feea8b76-7473-4ca5-94b0-281aac093787",
   "metadata": {
    "tags": []
   },
   "outputs": [
    {
     "name": "stdout",
     "output_type": "stream",
     "text": [
      "Optimization terminated successfully.\n",
      "         Current function value: 0.437725\n",
      "         Iterations 7\n",
      "                           Logit Regression Results                           \n",
      "==============================================================================\n",
      "Dep. Variable:                      4   No. Observations:                  919\n",
      "Model:                          Logit   Df Residuals:                      916\n",
      "Method:                           MLE   Df Model:                            2\n",
      "Date:                Sun, 17 Sep 2023   Pseudo R-squ.:                  0.3632\n",
      "Time:                        17:56:05   Log-Likelihood:                -402.27\n",
      "converged:                       True   LL-Null:                       -631.66\n",
      "Covariance Type:            nonrobust   LLR p-value:                2.382e-100\n",
      "==============================================================================\n",
      "                 coef    std err          z      P>|z|      [0.025      0.975]\n",
      "------------------------------------------------------------------------------\n",
      "1             -0.5808      0.038    -15.100      0.000      -0.656      -0.505\n",
      "2             -0.3699      0.035    -10.648      0.000      -0.438      -0.302\n",
      "3             -0.7805      0.063    -12.299      0.000      -0.905      -0.656\n",
      "==============================================================================\n"
     ]
    }
   ],
   "source": [
    "logit_model = sm.Logit(y_train, X_train)\n",
    "logit_res = logit_model.fit()\n",
    "print(logit_res.summary())"
   ]
  },
  {
   "cell_type": "markdown",
   "id": "8df97514-0221-4330-91d8-55de6130506d",
   "metadata": {},
   "source": [
    "## Comparing Both Model"
   ]
  },
  {
   "cell_type": "markdown",
   "id": "39e7a13d-d5a7-44a0-b3f3-769fe065ac30",
   "metadata": {},
   "source": [
    "Many documentation state that probit and logit model result do not differ much from each other. However because of the interpretability of the logit model, this model is used more often in binary regression."
   ]
  },
  {
   "cell_type": "code",
   "execution_count": 71,
   "id": "0dcc78a3-b41b-4384-b59d-4ccf29a46755",
   "metadata": {
    "tags": []
   },
   "outputs": [],
   "source": [
    "probit_pred = probit_model.predict(probit_res.params, X_test)\n",
    "logit_pred = logit_model.predict(logit_res.params, X_test)"
   ]
  },
  {
   "cell_type": "code",
   "execution_count": 85,
   "id": "ea9cfd96-96bb-46a1-98ba-c56da5a6f6ff",
   "metadata": {
    "tags": []
   },
   "outputs": [
    {
     "data": {
      "text/plain": [
       "Text(0, 0.5, 'Number of Data')"
      ]
     },
     "execution_count": 85,
     "metadata": {},
     "output_type": "execute_result"
    },
    {
     "data": {
      "image/png": "[encoded data removed]",
      "text/plain": [
       "<Figure size 640x480 with 1 Axes>"
      ]
     },
     "metadata": {},
     "output_type": "display_data"
    }
   ],
   "source": [
    "n_bins = 20\n",
    "fig, ax = plt.subplots(1, 1)\n",
    "\n",
    "ax.hist(probit_pred, bins=n_bins, color=\"green\", alpha=0.4)\n",
    "ax.hist(logit_pred, bins=n_bins, color=\"brown\", alpha=0.4)\n",
    "plt.xlabel(\"Probability\")\n",
    "plt.ylabel(\"Number of Data\")"
   ]
  },
  {
   "cell_type": "markdown",
   "id": "12c1679b-14d2-4e1c-b5f3-65bf1bc1b7d9",
   "metadata": {},
   "source": [
    "## Intepreting Coefficient of Probit Regression and Logit Regression"
   ]
  },
  {
   "cell_type": "markdown",
   "id": "094e4e58-c63d-4734-bca4-f207abd56f50",
   "metadata": {},
   "source": [
    "Probit model used z score ......"
   ]
  },
  {
   "cell_type": "markdown",
   "id": "ea359406-90a2-4206-a181-573b9b812954",
   "metadata": {},
   "source": [
    "Contrast to probit model, we can interpret logit regression directly to odds. ......."
   ]
  },
  {
   "cell_type": "markdown",
   "id": "4a13164e-8478-4fe9-afec-bfeb836cc909",
   "metadata": {},
   "source": [
    "## Conclusion"
   ]
  }
 ],
 "metadata": {
  "kernelspec": {
   "display_name": "Python 3 (ipykernel)",
   "language": "python",
   "name": "python3"
  },
  "language_info": {
   "codemirror_mode": {
    "name": "ipython",
    "version": 3
   },
   "file_extension": ".py",
   "mimetype": "text/x-python",
   "name": "python",
   "nbconvert_exporter": "python",
   "pygments_lexer": "ipython3",
   "version": "3.11.5"
  }
 },
 "nbformat": 4,
 "nbformat_minor": 5
}
